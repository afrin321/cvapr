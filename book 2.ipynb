{
 "cells": [
  {
   "cell_type": "code",
   "execution_count": 1,
   "metadata": {},
   "outputs": [],
   "source": [
    "import numpy as np\n",
    "from tqdm import tqdm\n",
    "import pickle"
   ]
  },
  {
   "cell_type": "code",
   "execution_count": 5,
   "metadata": {},
   "outputs": [],
   "source": [
    "pin = open(\"X.pickle\",\"rb\")\n",
    "X = pickle.load(pin)\n",
    "\n",
    "pin = open(\"y.pickle\",\"rb\")\n",
    "y = pickle.load(pin)"
   ]
  },
  {
   "cell_type": "markdown",
   "metadata": {},
   "source": [
    "# Validation for fold 3"
   ]
  },
  {
   "cell_type": "code",
   "execution_count": 6,
   "metadata": {},
   "outputs": [
    {
     "name": "stdout",
     "output_type": "stream",
     "text": [
      "40000 10000 (40000, 100, 100, 1)\n"
     ]
    }
   ],
   "source": [
    "train_3 = []\n",
    "train_3 = np.append(X[0:30000], X[40000:50000], axis=0)\n",
    "val_3 = X[30000:40000]\n",
    "print(len(train_3), len(val_3), train_3.shape)"
   ]
  },
  {
   "cell_type": "code",
   "execution_count": 9,
   "metadata": {},
   "outputs": [
    {
     "name": "stderr",
     "output_type": "stream",
     "text": [
      "100%|█████████████████████████████████████████████████████████████████████████| 10000/10000 [14:08:21<00:00,  5.09s/it]\n"
     ]
    }
   ],
   "source": [
    "res = []\n",
    "for i in tqdm(range(len(val_3))):\n",
    "    \n",
    "    arr = []\n",
    "    arr2 = []\n",
    "    for j,k in enumerate(train_3):\n",
    "        dist_arr = np.abs(val_3[i] - k) \n",
    "        dist = np.sum(dist_arr) # mathatten / L1 distance\n",
    "        arr.append(dist)    \n",
    "    for k in range(1, 21, 1):\n",
    "        minIndex = np.argmin(arr)\n",
    "        arr2.append(minIndex)\n",
    "        arr.pop(minIndex)\n",
    "    res.append([arr2]) "
   ]
  },
  {
   "cell_type": "code",
   "execution_count": 29,
   "metadata": {},
   "outputs": [
    {
     "name": "stdout",
     "output_type": "stream",
     "text": [
      "[[22845 25271 22489 34626 32217 36030 19202  9805 17295 17383   160 32449\n",
      "  33756 24551 31748 25755 14476 15163  2313 24488]] 10000\n"
     ]
    }
   ],
   "source": [
    "pin = open(\"F1.pickle\",\"rb\")\n",
    "f1 = pickle.load(pin)\n",
    "\n",
    "print(f1[0], len(f1))"
   ]
  },
  {
   "cell_type": "code",
   "execution_count": 30,
   "metadata": {},
   "outputs": [
    {
     "name": "stdout",
     "output_type": "stream",
     "text": [
      "10000 [[24311, 2373, 2951, 19100, 18480, 26544, 21654, 18890, 20572, 17568, 32827, 20423, 28681, 28997, 22093, 2634, 17787, 26821, 2000, 32940]]\n"
     ]
    }
   ],
   "source": [
    "print(len(res), res[0])"
   ]
  },
  {
   "cell_type": "code",
   "execution_count": 12,
   "metadata": {},
   "outputs": [],
   "source": [
    "pout = open(\"F3.pickle\",\"wb\")\n",
    "pickle.dump(res, pout)\n",
    "pout.close()"
   ]
  },
  {
   "cell_type": "code",
   "execution_count": 300,
   "metadata": {},
   "outputs": [],
   "source": [
    "#f1_l = [CATEGORIES[x] for x in f1[0]]\n",
    "from collections import Counter\n",
    "l_1 = y[0:40000]\n",
    "labels_1 = []\n",
    "l1=[]\n",
    "for i,x in tqdm(enumerate(f1)):\n",
    "    \n",
    "    t=l_1\n",
    "    for z in x[0]:\n",
    "        l1.append(t[z])\n",
    "        t.pop(z)\n",
    "    #l1 = [t[z] for z in x[0]]\n",
    "    l11 = []\n",
    "    for k in range(1, 21, 1):\n",
    "        l11.append(Counter(l1[0:k]).most_common()[0][0])\n",
    "    labels_1.append(l11)\n",
    "    l1 = []\n",
    "\n",
    "print(len(labels_1))"
   ]
  },
  {
   "cell_type": "code",
   "execution_count": 291,
   "metadata": {},
   "outputs": [
    {
     "name": "stdout",
     "output_type": "stream",
     "text": [
      "[7, 7, 7, 7, 7, 7, 7, 7, 7, 7, 7, 7, 7, 7, 7, 0, 0, 0, 0, 0]\n"
     ]
    }
   ],
   "source": [
    "print(labels_1[7])"
   ]
  },
  {
   "cell_type": "code",
   "execution_count": 292,
   "metadata": {},
   "outputs": [
    {
     "name": "stderr",
     "output_type": "stream",
     "text": [
      "100%|██████████████████████████████████████████████████████████████████████████████████| 20/20 [00:00<00:00, 63.35it/s]"
     ]
    },
    {
     "name": "stdout",
     "output_type": "stream",
     "text": [
      "20 [0.2313, 0.2313, 0.2258, 0.2205, 0.2091, 0.2023, 0.1996, 0.1998, 0.1966, 0.1932, 0.1909, 0.1838, 0.1835, 0.18, 0.1816, 0.1821, 0.1824, 0.1812, 0.1798, 0.1785]\n"
     ]
    },
    {
     "name": "stderr",
     "output_type": "stream",
     "text": [
      "\n"
     ]
    }
   ],
   "source": [
    "y_1 = y[40000:50000]\n",
    "c = 0\n",
    "acc = []\n",
    "for k in tqdm(range(1,21,1)):\n",
    "    for i, x in enumerate(labels_1):\n",
    "        if x[k-1]==y_1[i]:\n",
    "            c += 1\n",
    "    a = (c/10000)\n",
    "    acc.append(a)\n",
    "    c = 0\n",
    "print(len(acc), acc)"
   ]
  },
  {
   "cell_type": "code",
   "execution_count": 222,
   "metadata": {},
   "outputs": [
    {
     "name": "stdout",
     "output_type": "stream",
     "text": [
      "[0.2313, 0.2313, 0.2258, 0.2205, 0.2091, 0.2023, 0.1996, 0.1998, 0.1966, 0.1932, 0.1909, 0.1838, 0.1835, 0.18, 0.1816, 0.1821, 0.1824, 0.1812, 0.1798, 0.1785] 0\n",
      "1\n"
     ]
    }
   ],
   "source": [
    "accuracy = []\n",
    "print(acc, np.argmax(acc))\n",
    "accuracy.append([acc])\n",
    "\n",
    "print(len(accuracy))"
   ]
  },
  {
   "cell_type": "code",
   "execution_count": 34,
   "metadata": {},
   "outputs": [
    {
     "name": "stdout",
     "output_type": "stream",
     "text": [
      "[[30213  8872 17454 11170 22088 27036 30384 12626  9050  2277 31069 31786\n",
      "    654 11915  2517 19041 23162 10781 21718 39494]] 10000\n"
     ]
    }
   ],
   "source": [
    "pin = open(\"F2.pickle\",\"rb\")\n",
    "f2 = pickle.load(pin)\n",
    "\n",
    "print(f2[0], len(f2))"
   ]
  },
  {
   "cell_type": "code",
   "execution_count": 223,
   "metadata": {},
   "outputs": [
    {
     "name": "stderr",
     "output_type": "stream",
     "text": [
      "10000it [00:04, 2004.97it/s]"
     ]
    },
    {
     "name": "stdout",
     "output_type": "stream",
     "text": [
      "10000\n"
     ]
    },
    {
     "name": "stderr",
     "output_type": "stream",
     "text": [
      "\n"
     ]
    }
   ],
   "source": [
    "l_2 = y[10000:50000]\n",
    "labels_2 = []\n",
    "for i,x in tqdm(enumerate(f2)):\n",
    "    l2 = [l_2[z] for z in x[0]]\n",
    "    l22 = []\n",
    "    for k in range(1, 21, 1):\n",
    "        l22.append(Counter(l2[0:k]).most_common()[0][0])\n",
    "    labels_2.append(l22)\n",
    "    l2 = []\n",
    "\n",
    "print(len(labels_2))"
   ]
  },
  {
   "cell_type": "code",
   "execution_count": 224,
   "metadata": {},
   "outputs": [
    {
     "name": "stderr",
     "output_type": "stream",
     "text": [
      "100%|██████████████████████████████████████████████████████████████████████████████████| 20/20 [00:00<00:00, 57.72it/s]"
     ]
    },
    {
     "name": "stdout",
     "output_type": "stream",
     "text": [
      "20\n"
     ]
    },
    {
     "name": "stderr",
     "output_type": "stream",
     "text": [
      "\n"
     ]
    }
   ],
   "source": [
    "y_2 = y[0:10000]\n",
    "c = 0\n",
    "acc = []\n",
    "for k in tqdm(range(1,21,1)):\n",
    "    for i, x in enumerate(labels_2):\n",
    "        if x[k-1]==y_2[i]:\n",
    "            c += 1\n",
    "    a = (c/10000)\n",
    "    acc.append(a)\n",
    "    c = 0\n",
    "print(len(acc))"
   ]
  },
  {
   "cell_type": "code",
   "execution_count": 225,
   "metadata": {},
   "outputs": [
    {
     "name": "stdout",
     "output_type": "stream",
     "text": [
      "[0.2392, 0.2392, 0.2318, 0.2203, 0.2127, 0.2089, 0.2082, 0.2061, 0.2039, 0.2018, 0.197, 0.1958, 0.1926, 0.1905, 0.1875, 0.188, 0.1854, 0.1863, 0.1848, 0.1833] 0 2\n"
     ]
    }
   ],
   "source": [
    "accuracy.append([acc])\n",
    "print(acc, np.argmax(acc), len(accuracy))"
   ]
  },
  {
   "cell_type": "code",
   "execution_count": 38,
   "metadata": {},
   "outputs": [
    {
     "name": "stdout",
     "output_type": "stream",
     "text": [
      "[[24311, 2373, 2951, 19100, 18480, 26544, 21654, 18890, 20572, 17568, 32827, 20423, 28681, 28997, 22093, 2634, 17787, 26821, 2000, 32940]] 10000\n"
     ]
    }
   ],
   "source": [
    "pin = open(\"F3.pickle\",\"rb\")\n",
    "f3 = pickle.load(pin)\n",
    "\n",
    "print(f3[0], len(f3))"
   ]
  },
  {
   "cell_type": "code",
   "execution_count": 226,
   "metadata": {},
   "outputs": [
    {
     "name": "stderr",
     "output_type": "stream",
     "text": [
      "10000it [00:09, 1048.85it/s]"
     ]
    },
    {
     "name": "stdout",
     "output_type": "stream",
     "text": [
      "10000\n"
     ]
    },
    {
     "name": "stderr",
     "output_type": "stream",
     "text": [
      "\n"
     ]
    }
   ],
   "source": [
    "l_3 = np.append(y[0:30000], y[40000:50000], axis=0)\n",
    "labels_3 = []\n",
    "for i,x in tqdm(enumerate(f3)):\n",
    "    l3 = [l_3[z] for z in x[0]]\n",
    "    l33 = []\n",
    "    for k in range(1, 21, 1):\n",
    "        l33.append(Counter(l3[0:k]).most_common()[0][0])\n",
    "    labels_3.append(l33)\n",
    "    l3 = []\n",
    "\n",
    "print(len(labels_3))"
   ]
  },
  {
   "cell_type": "code",
   "execution_count": 227,
   "metadata": {},
   "outputs": [
    {
     "name": "stderr",
     "output_type": "stream",
     "text": [
      "100%|██████████████████████████████████████████████████████████████████████████████████| 20/20 [00:00<00:00, 56.23it/s]"
     ]
    },
    {
     "name": "stdout",
     "output_type": "stream",
     "text": [
      "20\n"
     ]
    },
    {
     "name": "stderr",
     "output_type": "stream",
     "text": [
      "\n"
     ]
    }
   ],
   "source": [
    "y_3 = y[30000:40000]\n",
    "c = 0\n",
    "acc = []\n",
    "for k in tqdm(range(1,21,1)):\n",
    "    for i, x in enumerate(labels_3):\n",
    "        if x[k-1]==y_3[i]:\n",
    "            c += 1\n",
    "    a = (c/10000)\n",
    "    acc.append(a)\n",
    "    c = 0\n",
    "print(len(acc))"
   ]
  },
  {
   "cell_type": "code",
   "execution_count": 228,
   "metadata": {},
   "outputs": [
    {
     "name": "stdout",
     "output_type": "stream",
     "text": [
      "[0.2263, 0.2263, 0.2241, 0.2189, 0.2102, 0.2046, 0.2042, 0.1974, 0.1942, 0.1934, 0.1925, 0.1915, 0.1922, 0.1911, 0.1896, 0.1881, 0.184, 0.1822, 0.1835, 0.1821] 0 3\n"
     ]
    }
   ],
   "source": [
    "accuracy.append([acc])\n",
    "print(acc, np.argmax(acc), len(accuracy))"
   ]
  },
  {
   "cell_type": "code",
   "execution_count": 52,
   "metadata": {},
   "outputs": [
    {
     "name": "stdout",
     "output_type": "stream",
     "text": [
      "[[[0.2313, 0.2313, 0.2258, 0.2205, 0.2091, 0.2023, 0.1996, 0.1998, 0.1966, 0.1932, 0.1909, 0.1838, 0.1835, 0.18, 0.1816, 0.1821, 0.1824, 0.1812, 0.1798, 0.1785]], [[0.1, 0.1, 0.1, 0.1, 0.0959, 0.0959, 0.0959, 0.0959, 0.0959, 0.0959, 0.1024, 0.1024, 0.1024, 0.1024, 0.1024, 0.1024, 0.102, 0.102, 0.102, 0.102]], [[0.0999, 0.0999, 0.0999, 0.0999, 0.102, 0.102, 0.102, 0.102, 0.102, 0.102, 0.0983, 0.0983, 0.0983, 0.0983, 0.0983, 0.0983, 0.1009, 0.1009, 0.1009, 0.1009]]]\n"
     ]
    }
   ],
   "source": [
    "print(accuracy)"
   ]
  },
  {
   "cell_type": "code",
   "execution_count": 54,
   "metadata": {},
   "outputs": [
    {
     "name": "stdout",
     "output_type": "stream",
     "text": [
      "[[[0.2313 0.2313 0.2258 0.2205 0.2091 0.2023 0.1996 0.1998 0.1966 0.1932\n",
      "   0.1909 0.1838 0.1835 0.18   0.1816 0.1821 0.1824 0.1812 0.1798 0.1785]]\n",
      "\n",
      " [[0.1    0.1    0.1    0.1    0.0959 0.0959 0.0959 0.0959 0.0959 0.0959\n",
      "   0.1024 0.1024 0.1024 0.1024 0.1024 0.1024 0.102  0.102  0.102  0.102 ]]\n",
      "\n",
      " [[0.0999 0.0999 0.0999 0.0999 0.102  0.102  0.102  0.102  0.102  0.102\n",
      "   0.0983 0.0983 0.0983 0.0983 0.0983 0.0983 0.1009 0.1009 0.1009 0.1009]]]\n"
     ]
    }
   ],
   "source": [
    "accuracy = np.array(accuracy)\n",
    "print(accuracy)"
   ]
  },
  {
   "cell_type": "code",
   "execution_count": 56,
   "metadata": {},
   "outputs": [],
   "source": [
    "pout = open(\"Accuracy_2.pickle\",\"wb\")\n",
    "pickle.dump(accuracy, pout)\n",
    "pout.close()"
   ]
  },
  {
   "cell_type": "code",
   "execution_count": 57,
   "metadata": {},
   "outputs": [],
   "source": [
    "import matplotlib.pyplot as plt"
   ]
  },
  {
   "cell_type": "code",
   "execution_count": 61,
   "metadata": {},
   "outputs": [
    {
     "name": "stdout",
     "output_type": "stream",
     "text": [
      "0.2313 0.1\n"
     ]
    }
   ],
   "source": [
    "print(accuracy[0][0][0],accuracy[1][0][0])"
   ]
  },
  {
   "cell_type": "code",
   "execution_count": 81,
   "metadata": {},
   "outputs": [
    {
     "data": {
      "image/png": "[encoded data removed]",
      "text/plain": [
       "<Figure size 432x288 with 1 Axes>"
      ]
     },
     "metadata": {
      "needs_background": "light"
     },
     "output_type": "display_data"
    },
    {
     "name": "stdout",
     "output_type": "stream",
     "text": [
      "20\n"
     ]
    }
   ],
   "source": [
    "av_set = []\n",
    "for i in range(1,21,1):\n",
    "    plt.plot(i, accuracy[0][0][i-1], 'o')\n",
    "    plt.plot(i, accuracy[1][0][i-1], 'o')\n",
    "    plt.plot(i, accuracy[2][0][i-1], 'o')\n",
    "    avg = np.mean([accuracy[0][0][i-1],accuracy[1][0][i-1],accuracy[2][0][i-1]])\n",
    "    av_set.append(avg)\n",
    "    a_max = max([accuracy[0][0][i-1],accuracy[1][0][i-1],accuracy[2][0][i-1]])\n",
    "    a_min = min([accuracy[0][0][i-1],accuracy[1][0][i-1],accuracy[2][0][i-1]])\n",
    "    plt.plot([i,i], [a_min-0.05, a_max+0.05], color='black')\n",
    "    \n",
    "    \n",
    "    plt.plot(i, avg, 'o',  color='r')\n",
    "\n",
    "plt.plot([1,2,3,4,5,6,7,8,9,10,11,12,13,14,15,16,17,18,19,20], av_set)\n",
    "plt.ylim([0,0.3])\n",
    "plt.xlim([0,22])\n",
    "plt.show()   \n",
    "\n",
    "print(len(av_set))"
   ]
  },
  {
   "cell_type": "code",
   "execution_count": 82,
   "metadata": {},
   "outputs": [
    {
     "name": "stdout",
     "output_type": "stream",
     "text": [
      "40000 10000\n"
     ]
    }
   ],
   "source": [
    "val_4 = X[10000:20000]\n",
    "train_4 = []\n",
    "train_4 = np.append(X[0:10000], X[20000:50000], axis=0)\n",
    "print(len(train_4), len(val_4))"
   ]
  },
  {
   "cell_type": "code",
   "execution_count": 83,
   "metadata": {},
   "outputs": [
    {
     "name": "stderr",
     "output_type": "stream",
     "text": [
      "100%|█████████████████████████████████████████████████████████████████████████| 10000/10000 [16:22:24<00:00,  5.89s/it]\n"
     ]
    }
   ],
   "source": [
    "# validation for fold 4\n",
    "res = []\n",
    "for i in tqdm(range(len(val_4))):\n",
    "    \n",
    "    arr = []\n",
    "    arr2 = []\n",
    "    for j,k in enumerate(train_4):\n",
    "        dist_arr = np.abs(val_4[i] - k) \n",
    "        dist = np.sum(dist_arr) # mathatten / L1 distance\n",
    "        arr.append(dist)    \n",
    "    for k in range(1, 21, 1):\n",
    "        minIndex = np.argmin(arr)\n",
    "        arr2.append(minIndex)\n",
    "        arr.pop(minIndex)\n",
    "    res.append([arr2]) "
   ]
  },
  {
   "cell_type": "code",
   "execution_count": 84,
   "metadata": {},
   "outputs": [],
   "source": [
    "pout = open(\"F4.pickle\",\"wb\")\n",
    "pickle.dump(res, pout)\n",
    "pout.close()"
   ]
  },
  {
   "cell_type": "code",
   "execution_count": 85,
   "metadata": {},
   "outputs": [
    {
     "name": "stdout",
     "output_type": "stream",
     "text": [
      "[[38624, 25831, 20275, 504, 25669, 29448, 11128, 25124, 25960, 25702, 38372, 19032, 6542, 3334, 2128, 22431, 14597, 30608, 5997, 33677]] 10000\n"
     ]
    }
   ],
   "source": [
    "pin = open(\"F4.pickle\",\"rb\")\n",
    "f4 = pickle.load(pin)\n",
    "\n",
    "print(f4[0], len(f4))"
   ]
  },
  {
   "cell_type": "code",
   "execution_count": 229,
   "metadata": {},
   "outputs": [
    {
     "name": "stderr",
     "output_type": "stream",
     "text": [
      "10000it [00:05, 1909.66it/s]"
     ]
    },
    {
     "name": "stdout",
     "output_type": "stream",
     "text": [
      "10000\n"
     ]
    },
    {
     "name": "stderr",
     "output_type": "stream",
     "text": [
      "\n"
     ]
    }
   ],
   "source": [
    "l_4 = np.append(y[0:10000], y[20000:50000], axis=0)\n",
    "labels_4 = []\n",
    "for i,x in tqdm(enumerate(f4)):\n",
    "    l4 = [l_4[z] for z in x[0]]\n",
    "    l44 = []\n",
    "    for k in range(1, 21, 1):\n",
    "        l44.append(Counter(l4[0:k]).most_common()[0][0])\n",
    "    labels_4.append(l44)\n",
    "    l4 = []\n",
    "\n",
    "print(len(labels_4))"
   ]
  },
  {
   "cell_type": "code",
   "execution_count": 230,
   "metadata": {},
   "outputs": [
    {
     "name": "stderr",
     "output_type": "stream",
     "text": [
      "100%|██████████████████████████████████████████████████████████████████████████████████| 20/20 [00:00<00:00, 63.75it/s]"
     ]
    },
    {
     "name": "stdout",
     "output_type": "stream",
     "text": [
      "20\n"
     ]
    },
    {
     "name": "stderr",
     "output_type": "stream",
     "text": [
      "\n"
     ]
    }
   ],
   "source": [
    "y_4 = y[10000:20000]\n",
    "c = 0\n",
    "acc = []\n",
    "for k in tqdm(range(1,21,1)):\n",
    "    for i, x in enumerate(labels_4):\n",
    "        if x[k-1]==y_4[i]:\n",
    "            c += 1\n",
    "    a = (c/10000)\n",
    "    acc.append(a)\n",
    "    c = 0\n",
    "print(len(acc))"
   ]
  },
  {
   "cell_type": "code",
   "execution_count": 231,
   "metadata": {},
   "outputs": [
    {
     "name": "stdout",
     "output_type": "stream",
     "text": [
      "[0.2424, 0.2424, 0.2372, 0.2257, 0.2169, 0.2066, 0.2043, 0.2055, 0.2021, 0.1986, 0.1965, 0.1926, 0.19, 0.1882, 0.188, 0.1849, 0.1852, 0.1814, 0.1829, 0.1806] 0 4\n"
     ]
    }
   ],
   "source": [
    "accuracy.append([acc])\n",
    "print(acc, np.argmax(acc), len(accuracy))"
   ]
  },
  {
   "cell_type": "code",
   "execution_count": 232,
   "metadata": {},
   "outputs": [
    {
     "name": "stdout",
     "output_type": "stream",
     "text": [
      "[[[0.2313 0.2313 0.2258 0.2205 0.2091 0.2023 0.1996 0.1998 0.1966 0.1932\n",
      "   0.1909 0.1838 0.1835 0.18   0.1816 0.1821 0.1824 0.1812 0.1798 0.1785]]\n",
      "\n",
      " [[0.2392 0.2392 0.2318 0.2203 0.2127 0.2089 0.2082 0.2061 0.2039 0.2018\n",
      "   0.197  0.1958 0.1926 0.1905 0.1875 0.188  0.1854 0.1863 0.1848 0.1833]]\n",
      "\n",
      " [[0.2263 0.2263 0.2241 0.2189 0.2102 0.2046 0.2042 0.1974 0.1942 0.1934\n",
      "   0.1925 0.1915 0.1922 0.1911 0.1896 0.1881 0.184  0.1822 0.1835 0.1821]]\n",
      "\n",
      " [[0.2424 0.2424 0.2372 0.2257 0.2169 0.2066 0.2043 0.2055 0.2021 0.1986\n",
      "   0.1965 0.1926 0.19   0.1882 0.188  0.1849 0.1852 0.1814 0.1829 0.1806]]]\n"
     ]
    }
   ],
   "source": [
    "accuracy = np.array(accuracy)\n",
    "print(accuracy)"
   ]
  },
  {
   "cell_type": "code",
   "execution_count": 233,
   "metadata": {},
   "outputs": [],
   "source": [
    "pout = open(\"Accuracy_2.pickle\",\"wb\")\n",
    "pickle.dump(accuracy, pout)\n",
    "pout.close()\n"
   ]
  },
  {
   "cell_type": "code",
   "execution_count": 237,
   "metadata": {},
   "outputs": [
    {
     "data": {
      "image/png": "[encoded data removed]",
      "text/plain": [
       "<Figure size 432x288 with 1 Axes>"
      ]
     },
     "metadata": {
      "needs_background": "light"
     },
     "output_type": "display_data"
    }
   ],
   "source": [
    "av_set = []\n",
    "for i in range(1,21,1):\n",
    "    plt.plot(i, accuracy[0][0][i-1], 'o')\n",
    "    plt.plot(i, accuracy[1][0][i-1], 'o')\n",
    "    plt.plot(i, accuracy[2][0][i-1], 'o')\n",
    "    plt.plot(i, accuracy[3][0][i-1], 'o')\n",
    "    avg = np.mean([accuracy[0][0][i-1],accuracy[1][0][i-1],accuracy[2][0][i-1],accuracy[3][0][i-1]])\n",
    "    av_set.append(avg)\n",
    "    a_max = max([accuracy[0][0][i-1],accuracy[1][0][i-1],accuracy[2][0][i-1],accuracy[3][0][i-1]])\n",
    "    a_min = min([accuracy[0][0][i-1],accuracy[1][0][i-1],accuracy[2][0][i-1],accuracy[3][0][i-1]])\n",
    "    plt.plot([i,i], [a_min-0.01, a_max+0.01], color='black')\n",
    "    \n",
    "    \n",
    "    plt.plot(i, avg, 'o',  color='r')\n",
    "\n",
    "plt.plot([1,2,3,4,5,6,7,8,9,10,11,12,13,14,15,16,17,18,19,20], av_set)\n",
    "plt.ylim([0.15,0.26])\n",
    "plt.xlim([0,22])\n",
    "plt.show()   "
   ]
  },
  {
   "cell_type": "code",
   "execution_count": 193,
   "metadata": {},
   "outputs": [
    {
     "name": "stdout",
     "output_type": "stream",
     "text": [
      "40000 10000\n"
     ]
    }
   ],
   "source": [
    "val_5 = X[20000:30000]\n",
    "train_5 = []\n",
    "train_5 = np.append(X[0:20000], X[30000:50000], axis=0)\n",
    "print(len(train_5), len(val_5))"
   ]
  },
  {
   "cell_type": "code",
   "execution_count": 245,
   "metadata": {},
   "outputs": [
    {
     "name": "stderr",
     "output_type": "stream",
     "text": [
      "  3%|██▏                                                                        | 287/10000 [24:40<13:55:09,  5.16s/it]\n"
     ]
    },
    {
     "ename": "KeyboardInterrupt",
     "evalue": "",
     "output_type": "error",
     "traceback": [
      "\u001b[1;31m---------------------------------------------------------------------------\u001b[0m",
      "\u001b[1;31mKeyboardInterrupt\u001b[0m                         Traceback (most recent call last)",
      "\u001b[1;32m<ipython-input-245-d80a00265553>\u001b[0m in \u001b[0;36m<module>\u001b[1;34m\u001b[0m\n\u001b[0;32m      5\u001b[0m     \u001b[0marr2\u001b[0m \u001b[1;33m=\u001b[0m \u001b[1;33m[\u001b[0m\u001b[1;33m]\u001b[0m\u001b[1;33m\u001b[0m\u001b[1;33m\u001b[0m\u001b[0m\n\u001b[0;32m      6\u001b[0m     \u001b[1;32mfor\u001b[0m \u001b[0mj\u001b[0m\u001b[1;33m,\u001b[0m\u001b[0mk\u001b[0m \u001b[1;32min\u001b[0m \u001b[0menumerate\u001b[0m\u001b[1;33m(\u001b[0m\u001b[0mtrain_5\u001b[0m\u001b[1;33m)\u001b[0m\u001b[1;33m:\u001b[0m\u001b[1;33m\u001b[0m\u001b[1;33m\u001b[0m\u001b[0m\n\u001b[1;32m----> 7\u001b[1;33m         \u001b[0mdist_arr\u001b[0m \u001b[1;33m=\u001b[0m \u001b[0mnp\u001b[0m\u001b[1;33m.\u001b[0m\u001b[0mabs\u001b[0m\u001b[1;33m(\u001b[0m\u001b[0mval_5\u001b[0m\u001b[1;33m[\u001b[0m\u001b[0mi\u001b[0m\u001b[1;33m]\u001b[0m \u001b[1;33m-\u001b[0m \u001b[0mk\u001b[0m\u001b[1;33m)\u001b[0m\u001b[1;33m\u001b[0m\u001b[1;33m\u001b[0m\u001b[0m\n\u001b[0m\u001b[0;32m      8\u001b[0m         \u001b[0mdist\u001b[0m \u001b[1;33m=\u001b[0m \u001b[0mnp\u001b[0m\u001b[1;33m.\u001b[0m\u001b[0msum\u001b[0m\u001b[1;33m(\u001b[0m\u001b[0mdist_arr\u001b[0m\u001b[1;33m)\u001b[0m \u001b[1;31m# mathatten / L1 distance\u001b[0m\u001b[1;33m\u001b[0m\u001b[1;33m\u001b[0m\u001b[0m\n\u001b[0;32m      9\u001b[0m         \u001b[0marr\u001b[0m\u001b[1;33m.\u001b[0m\u001b[0mappend\u001b[0m\u001b[1;33m(\u001b[0m\u001b[0mdist\u001b[0m\u001b[1;33m)\u001b[0m\u001b[1;33m\u001b[0m\u001b[1;33m\u001b[0m\u001b[0m\n",
      "\u001b[1;31mKeyboardInterrupt\u001b[0m: "
     ]
    }
   ],
   "source": [
    "res = []\n",
    "for i in tqdm(range(len(val_5))):\n",
    "    \n",
    "    arr = []\n",
    "    arr2 = []\n",
    "    for j,k in enumerate(train_5):\n",
    "        dist_arr = np.abs(val_5[i] - k) \n",
    "        dist = np.sum(dist_arr) # mathatten / L1 distance\n",
    "        arr.append(dist) \n",
    "        \n",
    "    for k in range(1, 21, 1):\n",
    "        minIndex = np.argmin(arr)\n",
    "        arr2.append(minIndex)\n",
    "        arr.pop(minIndex)\n",
    "    res.append([arr2]) "
   ]
  },
  {
   "cell_type": "code",
   "execution_count": 4,
   "metadata": {},
   "outputs": [],
   "source": [
    "pin = open(\"X.pickle\",\"rb\")\n",
    "X = pickle.load(pin)\n",
    "\n",
    "pin = open(\"y.pickle\",\"rb\")\n",
    "y = pickle.load(pin) "
   ]
  },
  {
   "cell_type": "code",
   "execution_count": 2,
   "metadata": {},
   "outputs": [
    {
     "name": "stdout",
     "output_type": "stream",
     "text": [
      "[[22845 25271 22489 34626 32217 36030 19202  9805 17295 17383   160 32449\n",
      "  33756 24551 31748 25755 14476 15163  2313 24488]] 10000\n"
     ]
    }
   ],
   "source": [
    "pin = open(\"F1.pickle\",\"rb\")\n",
    "f1 = pickle.load(pin)\n",
    "\n",
    "print(f1[0], len(f1))"
   ]
  },
  {
   "cell_type": "code",
   "execution_count": 15,
   "metadata": {},
   "outputs": [
    {
     "name": "stderr",
     "output_type": "stream",
     "text": [
      "10000it [03:31, 47.35it/s]"
     ]
    },
    {
     "name": "stdout",
     "output_type": "stream",
     "text": [
      "10000\n"
     ]
    },
    {
     "name": "stderr",
     "output_type": "stream",
     "text": [
      "\n"
     ]
    }
   ],
   "source": [
    "#f1_l = [CATEGORIES[x] for x in f1[0]]\n",
    "from collections import Counter\n",
    "l_1 = np.array(y[0:40000])\n",
    "labels_1 = []\n",
    "for i,x in tqdm(enumerate(f1)):\n",
    "    l1=[]\n",
    "    t=[x for x in l_1]\n",
    "    for z in x[0]:\n",
    "        l1.append(t[z])\n",
    "        t.remove(t[z])\n",
    "    t=[]\n",
    "    #l1 = [t[z] for z in x[0]]\n",
    "    l11 = []\n",
    "    for k in range(1, 21, 1):\n",
    "        l11.append(Counter(l1[0:k]).most_common()[0][0])\n",
    "    labels_1.append(l11)\n",
    "\n",
    "print(len(labels_1))\n"
   ]
  },
  {
   "cell_type": "code",
   "execution_count": 6,
   "metadata": {},
   "outputs": [
    {
     "name": "stdout",
     "output_type": "stream",
     "text": [
      "[8, 8, 8, 0, 0, 8, 8, 8, 8, 8, 8, 8, 8, 8, 8, 8, 8, 8, 8, 8]\n"
     ]
    }
   ],
   "source": [
    "print(labels_1[0])"
   ]
  },
  {
   "cell_type": "code",
   "execution_count": 9,
   "metadata": {},
   "outputs": [
    {
     "name": "stderr",
     "output_type": "stream",
     "text": [
      "100%|██████████████████████████████████████████████████████████████████████████████████| 20/20 [00:00<00:00, 62.45it/s]"
     ]
    },
    {
     "name": "stdout",
     "output_type": "stream",
     "text": [
      "20 [0.2313, 0.2313, 0.2291, 0.2207, 0.2157, 0.2132, 0.2096, 0.2097, 0.209, 0.2039, 0.2034, 0.198, 0.1985, 0.1955, 0.1932, 0.1935, 0.1921, 0.1918, 0.1918, 0.1896] 0\n"
     ]
    },
    {
     "name": "stderr",
     "output_type": "stream",
     "text": [
      "\n"
     ]
    }
   ],
   "source": [
    "y_1 = y[40000:50000]\n",
    "c = 0\n",
    "acc = []\n",
    "for k in tqdm(range(1,21,1)):\n",
    "    for i, x in enumerate(labels_1):\n",
    "        if x[k-1]==y_1[i]:\n",
    "            c += 1\n",
    "    a = (c/10000)\n",
    "    acc.append(a)\n",
    "    c = 0\n",
    "print(len(acc), acc, np.argmax(acc))"
   ]
  },
  {
   "cell_type": "code",
   "execution_count": 16,
   "metadata": {},
   "outputs": [
    {
     "name": "stdout",
     "output_type": "stream",
     "text": [
      "[0.2313, 0.2313, 0.2291, 0.2207, 0.2157, 0.2132, 0.2096, 0.2097, 0.209, 0.2039, 0.2034, 0.198, 0.1985, 0.1955, 0.1932, 0.1935, 0.1921, 0.1918, 0.1918, 0.1896] 0\n",
      "1\n"
     ]
    }
   ],
   "source": [
    "accuracy_1 = []\n",
    "print(acc, np.argmax(acc))\n",
    "accuracy_1.append([acc])\n",
    "\n",
    "print(len(accuracy_1))"
   ]
  },
  {
   "cell_type": "code",
   "execution_count": 17,
   "metadata": {},
   "outputs": [
    {
     "name": "stdout",
     "output_type": "stream",
     "text": [
      "[[30213  8872 17454 11170 22088 27036 30384 12626  9050  2277 31069 31786\n",
      "    654 11915  2517 19041 23162 10781 21718 39494]] 10000\n"
     ]
    }
   ],
   "source": [
    "pin = open(\"F2.pickle\",\"rb\")\n",
    "f2 = pickle.load(pin)\n",
    "\n",
    "print(f2[0], len(f2))"
   ]
  },
  {
   "cell_type": "code",
   "execution_count": 25,
   "metadata": {},
   "outputs": [
    {
     "name": "stderr",
     "output_type": "stream",
     "text": [
      "10000it [03:41, 45.12it/s]"
     ]
    },
    {
     "name": "stdout",
     "output_type": "stream",
     "text": [
      "10000\n"
     ]
    },
    {
     "name": "stderr",
     "output_type": "stream",
     "text": [
      "\n"
     ]
    }
   ],
   "source": [
    "l_2 =np.array(y[10000:50000])\n",
    "labels_2 = []\n",
    "for i,x in tqdm(enumerate(f2)):\n",
    "    l2=[]\n",
    "    t=[x for x in l_2]\n",
    "    for z in x[0]:\n",
    "        l2.append(t[z])\n",
    "        t.remove(t[z])\n",
    "    \n",
    "    t=[]\n",
    "    #l2 = [l_2[z] for z in x[0]]\n",
    "    l22 = []\n",
    "    for k in range(1, 21, 1):\n",
    "        l22.append(Counter(l2[0:k]).most_common()[0][0])\n",
    "    labels_2.append(l22)\n",
    "\n",
    "print(len(labels_2))"
   ]
  },
  {
   "cell_type": "code",
   "execution_count": 26,
   "metadata": {},
   "outputs": [
    {
     "name": "stdout",
     "output_type": "stream",
     "text": [
      "[0, 0, 0, 0, 0, 0, 0, 0, 8, 5, 8, 8, 8, 8, 8, 8, 8, 8, 8, 8]\n"
     ]
    }
   ],
   "source": [
    "print(labels_2[0])"
   ]
  },
  {
   "cell_type": "code",
   "execution_count": 27,
   "metadata": {},
   "outputs": [
    {
     "name": "stderr",
     "output_type": "stream",
     "text": [
      "100%|██████████████████████████████████████████████████████████████████████████████████| 20/20 [00:00<00:00, 58.43it/s]"
     ]
    },
    {
     "name": "stdout",
     "output_type": "stream",
     "text": [
      "20 [0.2392, 0.2392, 0.2357, 0.2269, 0.2148, 0.2038, 0.1966, 0.1986, 0.1963, 0.1931, 0.1942, 0.1868, 0.1859, 0.1824, 0.1807, 0.1836, 0.1796, 0.1783, 0.1764, 0.1738] 0\n"
     ]
    },
    {
     "name": "stderr",
     "output_type": "stream",
     "text": [
      "\n"
     ]
    }
   ],
   "source": [
    "y_2 = y[0:10000]\n",
    "c = 0\n",
    "acc = []\n",
    "for k in tqdm(range(1,21,1)):\n",
    "    for i, x in enumerate(labels_2):\n",
    "        if x[k-1]==y_2[i]:\n",
    "            c += 1\n",
    "    a = (c/10000)\n",
    "    acc.append(a)\n",
    "    c = 0\n",
    "print(len(acc), acc, np.argmax(acc))"
   ]
  },
  {
   "cell_type": "code",
   "execution_count": 28,
   "metadata": {},
   "outputs": [
    {
     "name": "stdout",
     "output_type": "stream",
     "text": [
      "[0.2392, 0.2392, 0.2357, 0.2269, 0.2148, 0.2038, 0.1966, 0.1986, 0.1963, 0.1931, 0.1942, 0.1868, 0.1859, 0.1824, 0.1807, 0.1836, 0.1796, 0.1783, 0.1764, 0.1738] 0 2\n"
     ]
    }
   ],
   "source": [
    "accuracy_1.append([acc])\n",
    "print(acc, np.argmax(acc), len(accuracy_1))"
   ]
  },
  {
   "cell_type": "code",
   "execution_count": 32,
   "metadata": {},
   "outputs": [
    {
     "name": "stdout",
     "output_type": "stream",
     "text": [
      "[[24311, 2373, 2951, 19100, 18480, 26544, 21654, 18890, 20572, 17568, 32827, 20423, 28681, 28997, 22093, 2634, 17787, 26821, 2000, 32940]] 10000\n"
     ]
    }
   ],
   "source": [
    "pin = open(\"F3.pickle\",\"rb\")\n",
    "f3 = pickle.load(pin)\n",
    "\n",
    "print(f3[0], len(f3))"
   ]
  },
  {
   "cell_type": "code",
   "execution_count": 33,
   "metadata": {},
   "outputs": [
    {
     "name": "stderr",
     "output_type": "stream",
     "text": [
      "10000it [03:27, 48.14it/s]"
     ]
    },
    {
     "name": "stdout",
     "output_type": "stream",
     "text": [
      "10000\n",
      "[3, 3, 2, 2, 2, 2, 2, 2, 2, 2, 2, 2, 2, 2, 2, 2, 2, 2, 2, 4]\n"
     ]
    },
    {
     "name": "stderr",
     "output_type": "stream",
     "text": [
      "\n"
     ]
    }
   ],
   "source": [
    "l_3 = np.append(y[0:30000], y[40000:50000], axis=0)\n",
    "labels_3 = []\n",
    "for i,x in tqdm(enumerate(f3)):\n",
    "    l3=[]\n",
    "    t=[x for x in l_3]\n",
    "    for z in x[0]:\n",
    "        l3.append(t[z])\n",
    "        t.remove(t[z])\n",
    "    \n",
    "    t=[]\n",
    "    #l3 = [l_3[z] for z in x[0]]\n",
    "    l33 = []\n",
    "    for k in range(1, 21, 1):\n",
    "        l33.append(Counter(l3[0:k]).most_common()[0][0])\n",
    "    labels_3.append(l33)\n",
    "    l3 = []\n",
    "\n",
    "print(len(labels_3))\n",
    "print(labels_3[0])"
   ]
  },
  {
   "cell_type": "code",
   "execution_count": 41,
   "metadata": {},
   "outputs": [
    {
     "name": "stderr",
     "output_type": "stream",
     "text": [
      "100%|██████████████████████████████████████████████████████████████████████████████████| 20/20 [00:00<00:00, 61.41it/s]"
     ]
    },
    {
     "name": "stdout",
     "output_type": "stream",
     "text": [
      "20 [0.2263, 0.2263, 0.2226, 0.2161, 0.2075, 0.2016, 0.1979, 0.2006, 0.1961, 0.198, 0.1916, 0.1898, 0.185, 0.1812, 0.1818, 0.1798, 0.1788, 0.1801, 0.1801, 0.1782] 0\n"
     ]
    },
    {
     "name": "stderr",
     "output_type": "stream",
     "text": [
      "\n"
     ]
    }
   ],
   "source": [
    "y_3 = y[30000:40000]\n",
    "c = 0\n",
    "acc = []\n",
    "for k in tqdm(range(1,21,1)):\n",
    "    for i, x in enumerate(labels_3):\n",
    "        \n",
    "        #print(x[k-1],y_3[i])\n",
    "        if x[k-1]==y_3[i]:\n",
    "            c += 1\n",
    "    a = (c/10000)\n",
    "    acc.append(a)\n",
    "    c = 0\n",
    "print(len(acc), acc, np.argmax(acc))"
   ]
  },
  {
   "cell_type": "code",
   "execution_count": 42,
   "metadata": {},
   "outputs": [
    {
     "name": "stdout",
     "output_type": "stream",
     "text": [
      "[0.2263, 0.2263, 0.2226, 0.2161, 0.2075, 0.2016, 0.1979, 0.2006, 0.1961, 0.198, 0.1916, 0.1898, 0.185, 0.1812, 0.1818, 0.1798, 0.1788, 0.1801, 0.1801, 0.1782] 0 3\n"
     ]
    }
   ],
   "source": [
    "accuracy_1.append([acc])\n",
    "print(acc, np.argmax(acc), len(accuracy_1))"
   ]
  },
  {
   "cell_type": "code",
   "execution_count": 43,
   "metadata": {},
   "outputs": [
    {
     "name": "stdout",
     "output_type": "stream",
     "text": [
      "[[38624, 25831, 20275, 504, 25669, 29448, 11128, 25124, 25960, 25702, 38372, 19032, 6542, 3334, 2128, 22431, 14597, 30608, 5997, 33677]] 10000\n"
     ]
    }
   ],
   "source": [
    "pin = open(\"F4.pickle\",\"rb\")\n",
    "f4 = pickle.load(pin)\n",
    "\n",
    "print(f4[0], len(f4))"
   ]
  },
  {
   "cell_type": "code",
   "execution_count": 44,
   "metadata": {},
   "outputs": [
    {
     "name": "stderr",
     "output_type": "stream",
     "text": [
      "10000it [03:25, 48.60it/s]"
     ]
    },
    {
     "name": "stdout",
     "output_type": "stream",
     "text": [
      "10000\n",
      "[7, 7, 7, 1, 7, 7, 1, 7, 7, 7, 7, 1, 1, 1, 1, 1, 1, 1, 1, 1]\n"
     ]
    },
    {
     "name": "stderr",
     "output_type": "stream",
     "text": [
      "\n"
     ]
    }
   ],
   "source": [
    "l_4 = np.append(y[0:10000], y[20000:50000], axis=0)\n",
    "labels_4 = []\n",
    "for i,x in tqdm(enumerate(f4)):\n",
    "    l4 = []\n",
    "    t=[x for x in l_4]\n",
    "    for z in x[0]:\n",
    "        l4.append(t[z])\n",
    "        t.remove(t[z])\n",
    "    \n",
    "    t=[]\n",
    "    #l4 = [l_4[z] for z in x[0]]\n",
    "    l44 = []\n",
    "    for k in range(1, 21, 1):\n",
    "        l44.append(Counter(l4[0:k]).most_common()[0][0])\n",
    "    labels_4.append(l44)\n",
    "    \n",
    "\n",
    "print(len(labels_4))\n",
    "print(labels_4[0])"
   ]
  },
  {
   "cell_type": "code",
   "execution_count": 45,
   "metadata": {},
   "outputs": [
    {
     "name": "stderr",
     "output_type": "stream",
     "text": [
      "100%|██████████████████████████████████████████████████████████████████████████████████| 20/20 [00:00<00:00, 61.40it/s]"
     ]
    },
    {
     "name": "stdout",
     "output_type": "stream",
     "text": [
      "20 [0.2424, 0.2424, 0.2325, 0.224, 0.219, 0.2079, 0.2032, 0.1998, 0.2006, 0.1997, 0.1953, 0.1915, 0.1864, 0.1846, 0.1846, 0.1815, 0.1828, 0.1793, 0.1777, 0.1755] 0\n"
     ]
    },
    {
     "name": "stderr",
     "output_type": "stream",
     "text": [
      "\n"
     ]
    }
   ],
   "source": [
    "y_4 = y[10000:20000]\n",
    "c = 0\n",
    "acc = []\n",
    "for k in tqdm(range(1,21,1)):\n",
    "    for i, x in enumerate(labels_4):\n",
    "        if x[k-1]==y_4[i]:\n",
    "            c += 1\n",
    "    a = (c/10000)\n",
    "    acc.append(a)\n",
    "    c = 0\n",
    "print(len(acc), acc,np.argmax(acc))"
   ]
  },
  {
   "cell_type": "code",
   "execution_count": 46,
   "metadata": {},
   "outputs": [
    {
     "name": "stdout",
     "output_type": "stream",
     "text": [
      "[0.2424, 0.2424, 0.2325, 0.224, 0.219, 0.2079, 0.2032, 0.1998, 0.2006, 0.1997, 0.1953, 0.1915, 0.1864, 0.1846, 0.1846, 0.1815, 0.1828, 0.1793, 0.1777, 0.1755] 0 4\n"
     ]
    }
   ],
   "source": [
    "accuracy_1.append([acc])\n",
    "print(acc, np.argmax(acc), len(accuracy_1))"
   ]
  },
  {
   "cell_type": "code",
   "execution_count": 47,
   "metadata": {},
   "outputs": [],
   "source": [
    "accuracy_1 = np.array(accuracy_1)"
   ]
  },
  {
   "cell_type": "code",
   "execution_count": 50,
   "metadata": {},
   "outputs": [],
   "source": [
    "import matplotlib.pyplot as plt"
   ]
  },
  {
   "cell_type": "code",
   "execution_count": 51,
   "metadata": {},
   "outputs": [
    {
     "data": {
      "image/png": "[encoded data removed]",
      "text/plain": [
       "<Figure size 432x288 with 1 Axes>"
      ]
     },
     "metadata": {
      "needs_background": "light"
     },
     "output_type": "display_data"
    }
   ],
   "source": [
    "av_set = []\n",
    "for i in range(1,21,1):\n",
    "    plt.plot(i, accuracy_1[0][0][i-1], 'o')\n",
    "    plt.plot(i, accuracy_1[1][0][i-1], 'o')\n",
    "    plt.plot(i, accuracy_1[2][0][i-1], 'o')\n",
    "    plt.plot(i, accuracy_1[3][0][i-1], 'o')\n",
    "    avg = np.mean([accuracy_1[0][0][i-1],accuracy_1[1][0][i-1],accuracy_1[2][0][i-1],accuracy_1[3][0][i-1]])\n",
    "    av_set.append(avg)\n",
    "    a_max = max([accuracy_1[0][0][i-1],accuracy_1[1][0][i-1],accuracy_1[2][0][i-1],accuracy_1[3][0][i-1]])\n",
    "    a_min = min([accuracy_1[0][0][i-1],accuracy_1[1][0][i-1],accuracy_1[2][0][i-1],accuracy_1[3][0][i-1]])\n",
    "    plt.plot([i,i], [a_min-0.01, a_max+0.01], color='black')\n",
    "    \n",
    "    \n",
    "    plt.plot(i, avg, 'o',  color='r')\n",
    "\n",
    "plt.plot([1,2,3,4,5,6,7,8,9,10,11,12,13,14,15,16,17,18,19,20], av_set)\n",
    "plt.ylim([0.15,0.26])\n",
    "plt.xlim([0,22])\n",
    "plt.show()   "
   ]
  }
 ],
 "metadata": {
  "kernelspec": {
   "display_name": "Python 3",
   "language": "python",
   "name": "python3"
  },
  "language_info": {
   "codemirror_mode": {
    "name": "ipython",
    "version": 3
   },
   "file_extension": ".py",
   "mimetype": "text/x-python",
   "name": "python",
   "nbconvert_exporter": "python",
   "pygments_lexer": "ipython3",
   "version": "3.8.5"
  }
 },
 "nbformat": 4,
 "nbformat_minor": 4
}
